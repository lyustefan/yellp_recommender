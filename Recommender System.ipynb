{
 "cells": [
  {
   "cell_type": "code",
   "execution_count": 131,
   "metadata": {
    "collapsed": true
   },
   "outputs": [],
   "source": [
    "#import pip \n",
    "#pip.main(['install','surprise'])"
   ]
  },
  {
   "cell_type": "code",
   "execution_count": 1,
   "metadata": {
    "collapsed": true
   },
   "outputs": [],
   "source": [
    "import json\n",
    "import pandas as pd\n",
    "import os\n",
    "import numpy as np\n",
    "from nltk.corpus import stopwords\n",
    "import nltk\n",
    "from sklearn.model_selection import train_test_split\n",
    "from sklearn.feature_extraction.text import TfidfVectorizer, CountVectorizer\n",
    "from sklearn.metrics.pairwise import cosine_similarity\n",
    "from scipy.sparse.linalg import svds\n",
    "import matplotlib.pyplot as plt\n",
    "from sklearn.metrics.pairwise import linear_kernel, cosine_similarity\n",
    "import string\n",
    "from nltk.stem.snowball import SnowballStemmer\n",
    "from surprise import Reader, Dataset, SVD, evaluate\n",
    "from sklearn.metrics import confusion_matrix\n",
    "import random\n",
    "pd.set_option('display.max_columns', 500)\n",
    "from sklearn.metrics import pairwise_distances\n",
    "from sklearn.metrics import confusion_matrix\n",
    "from collections import defaultdict\n",
    "from surprise.model_selection import KFold\n",
    "from surprise import KNNBasic\n",
    "from surprise import Dataset\n",
    "from surprise import accuracy"
   ]
  },
  {
   "cell_type": "code",
   "execution_count": 2,
   "metadata": {
    "collapsed": true
   },
   "outputs": [],
   "source": [
    "df=pd.read_csv('df_final.csv')\n",
    "df_features=pd.read_csv('df_feature.csv')"
   ]
  },
  {
   "cell_type": "code",
   "execution_count": 3,
   "metadata": {},
   "outputs": [
    {
     "data": {
      "text/html": [
       "<div>\n",
       "<style>\n",
       "    .dataframe thead tr:only-child th {\n",
       "        text-align: right;\n",
       "    }\n",
       "\n",
       "    .dataframe thead th {\n",
       "        text-align: left;\n",
       "    }\n",
       "\n",
       "    .dataframe tbody tr th {\n",
       "        vertical-align: top;\n",
       "    }\n",
       "</style>\n",
       "<table border=\"1\" class=\"dataframe\">\n",
       "  <thead>\n",
       "    <tr style=\"text-align: right;\">\n",
       "      <th></th>\n",
       "      <th>business_id</th>\n",
       "      <th>name</th>\n",
       "      <th>avg_stars</th>\n",
       "      <th>address</th>\n",
       "      <th>longitude</th>\n",
       "      <th>latitude</th>\n",
       "      <th>review_id</th>\n",
       "      <th>stars</th>\n",
       "      <th>text</th>\n",
       "      <th>user_id</th>\n",
       "    </tr>\n",
       "  </thead>\n",
       "  <tbody>\n",
       "    <tr>\n",
       "      <th>0</th>\n",
       "      <td>--9e1ONYQuAa-CB_Rrw7Tw</td>\n",
       "      <td>Delmonico Steakhouse</td>\n",
       "      <td>4.0</td>\n",
       "      <td>3355 Las Vegas Blvd S</td>\n",
       "      <td>-115.16919</td>\n",
       "      <td>36.123183</td>\n",
       "      <td>KEAHrqN-1DV0gmuNHM6Eww</td>\n",
       "      <td>5.0</td>\n",
       "      <td>As part of a birthday celebration weekend for ...</td>\n",
       "      <td>xP1IYu2eGfxMWV9tjrurIw</td>\n",
       "    </tr>\n",
       "    <tr>\n",
       "      <th>1</th>\n",
       "      <td>--9e1ONYQuAa-CB_Rrw7Tw</td>\n",
       "      <td>Delmonico Steakhouse</td>\n",
       "      <td>4.0</td>\n",
       "      <td>3355 Las Vegas Blvd S</td>\n",
       "      <td>-115.16919</td>\n",
       "      <td>36.123183</td>\n",
       "      <td>6SgvNWJltnZhW7duJgZ42w</td>\n",
       "      <td>5.0</td>\n",
       "      <td>This is mine and my fiancé's favorite steakhou...</td>\n",
       "      <td>oFyOUOeGTRZhFPF9uTqrTQ</td>\n",
       "    </tr>\n",
       "    <tr>\n",
       "      <th>2</th>\n",
       "      <td>--9e1ONYQuAa-CB_Rrw7Tw</td>\n",
       "      <td>Delmonico Steakhouse</td>\n",
       "      <td>4.0</td>\n",
       "      <td>3355 Las Vegas Blvd S</td>\n",
       "      <td>-115.16919</td>\n",
       "      <td>36.123183</td>\n",
       "      <td>iwx6s6yQxc7yjS7NFANZig</td>\n",
       "      <td>4.0</td>\n",
       "      <td>Nice atmosphere and wonderful service. I had t...</td>\n",
       "      <td>2aeNFntqY2QDZLADNo8iQQ</td>\n",
       "    </tr>\n",
       "    <tr>\n",
       "      <th>3</th>\n",
       "      <td>--9e1ONYQuAa-CB_Rrw7Tw</td>\n",
       "      <td>Delmonico Steakhouse</td>\n",
       "      <td>4.0</td>\n",
       "      <td>3355 Las Vegas Blvd S</td>\n",
       "      <td>-115.16919</td>\n",
       "      <td>36.123183</td>\n",
       "      <td>UVUMu_bELdA56Ryfbur-DA</td>\n",
       "      <td>5.0</td>\n",
       "      <td>Every year a group of us (we had 6 this year) ...</td>\n",
       "      <td>gmPP4YFrgYsYQqPYokMgFA</td>\n",
       "    </tr>\n",
       "    <tr>\n",
       "      <th>4</th>\n",
       "      <td>--9e1ONYQuAa-CB_Rrw7Tw</td>\n",
       "      <td>Delmonico Steakhouse</td>\n",
       "      <td>4.0</td>\n",
       "      <td>3355 Las Vegas Blvd S</td>\n",
       "      <td>-115.16919</td>\n",
       "      <td>36.123183</td>\n",
       "      <td>Jjz9W-wBkoBoMcB8ZQs5zQ</td>\n",
       "      <td>5.0</td>\n",
       "      <td>We had early reservations for a party of 9 for...</td>\n",
       "      <td>9bxdPvAhP6cuipD5s2UnCg</td>\n",
       "    </tr>\n",
       "  </tbody>\n",
       "</table>\n",
       "</div>"
      ],
      "text/plain": [
       "              business_id                  name  avg_stars  \\\n",
       "0  --9e1ONYQuAa-CB_Rrw7Tw  Delmonico Steakhouse        4.0   \n",
       "1  --9e1ONYQuAa-CB_Rrw7Tw  Delmonico Steakhouse        4.0   \n",
       "2  --9e1ONYQuAa-CB_Rrw7Tw  Delmonico Steakhouse        4.0   \n",
       "3  --9e1ONYQuAa-CB_Rrw7Tw  Delmonico Steakhouse        4.0   \n",
       "4  --9e1ONYQuAa-CB_Rrw7Tw  Delmonico Steakhouse        4.0   \n",
       "\n",
       "                 address  longitude   latitude               review_id  stars  \\\n",
       "0  3355 Las Vegas Blvd S -115.16919  36.123183  KEAHrqN-1DV0gmuNHM6Eww    5.0   \n",
       "1  3355 Las Vegas Blvd S -115.16919  36.123183  6SgvNWJltnZhW7duJgZ42w    5.0   \n",
       "2  3355 Las Vegas Blvd S -115.16919  36.123183  iwx6s6yQxc7yjS7NFANZig    4.0   \n",
       "3  3355 Las Vegas Blvd S -115.16919  36.123183  UVUMu_bELdA56Ryfbur-DA    5.0   \n",
       "4  3355 Las Vegas Blvd S -115.16919  36.123183  Jjz9W-wBkoBoMcB8ZQs5zQ    5.0   \n",
       "\n",
       "                                                text                 user_id  \n",
       "0  As part of a birthday celebration weekend for ...  xP1IYu2eGfxMWV9tjrurIw  \n",
       "1  This is mine and my fiancé's favorite steakhou...  oFyOUOeGTRZhFPF9uTqrTQ  \n",
       "2  Nice atmosphere and wonderful service. I had t...  2aeNFntqY2QDZLADNo8iQQ  \n",
       "3  Every year a group of us (we had 6 this year) ...  gmPP4YFrgYsYQqPYokMgFA  \n",
       "4  We had early reservations for a party of 9 for...  9bxdPvAhP6cuipD5s2UnCg  "
      ]
     },
     "execution_count": 3,
     "metadata": {},
     "output_type": "execute_result"
    }
   ],
   "source": [
    "df.head()"
   ]
  },
  {
   "cell_type": "code",
   "execution_count": 4,
   "metadata": {},
   "outputs": [
    {
     "data": {
      "text/html": [
       "<div>\n",
       "<style>\n",
       "    .dataframe thead tr:only-child th {\n",
       "        text-align: right;\n",
       "    }\n",
       "\n",
       "    .dataframe thead th {\n",
       "        text-align: left;\n",
       "    }\n",
       "\n",
       "    .dataframe tbody tr th {\n",
       "        vertical-align: top;\n",
       "    }\n",
       "</style>\n",
       "<table border=\"1\" class=\"dataframe\">\n",
       "  <thead>\n",
       "    <tr style=\"text-align: right;\">\n",
       "      <th></th>\n",
       "      <th>american</th>\n",
       "      <th>fast_food</th>\n",
       "      <th>mexican</th>\n",
       "      <th>chinese</th>\n",
       "      <th>italian</th>\n",
       "      <th>japanese</th>\n",
       "      <th>others</th>\n",
       "      <th>casual</th>\n",
       "      <th>classy</th>\n",
       "      <th>upscale</th>\n",
       "      <th>noise_level</th>\n",
       "      <th>business_id</th>\n",
       "      <th>happy_hour</th>\n",
       "      <th>latenight</th>\n",
       "      <th>brunch</th>\n",
       "      <th>dinner</th>\n",
       "      <th>lunch</th>\n",
       "    </tr>\n",
       "  </thead>\n",
       "  <tbody>\n",
       "    <tr>\n",
       "      <th>0</th>\n",
       "      <td>1</td>\n",
       "      <td>0</td>\n",
       "      <td>0</td>\n",
       "      <td>0</td>\n",
       "      <td>0</td>\n",
       "      <td>0</td>\n",
       "      <td>0</td>\n",
       "      <td>1</td>\n",
       "      <td>0</td>\n",
       "      <td>0</td>\n",
       "      <td>2</td>\n",
       "      <td>Pd52CjgyEU3Rb8co6QfTPw</td>\n",
       "      <td>1</td>\n",
       "      <td>0</td>\n",
       "      <td>0</td>\n",
       "      <td>0</td>\n",
       "      <td>1</td>\n",
       "    </tr>\n",
       "    <tr>\n",
       "      <th>1</th>\n",
       "      <td>1</td>\n",
       "      <td>0</td>\n",
       "      <td>0</td>\n",
       "      <td>0</td>\n",
       "      <td>0</td>\n",
       "      <td>0</td>\n",
       "      <td>0</td>\n",
       "      <td>0</td>\n",
       "      <td>0</td>\n",
       "      <td>0</td>\n",
       "      <td>4</td>\n",
       "      <td>n7V4cD-KqqE3OXk0irJTyA</td>\n",
       "      <td>0</td>\n",
       "      <td>1</td>\n",
       "      <td>1</td>\n",
       "      <td>0</td>\n",
       "      <td>0</td>\n",
       "    </tr>\n",
       "    <tr>\n",
       "      <th>2</th>\n",
       "      <td>0</td>\n",
       "      <td>1</td>\n",
       "      <td>0</td>\n",
       "      <td>0</td>\n",
       "      <td>0</td>\n",
       "      <td>0</td>\n",
       "      <td>0</td>\n",
       "      <td>0</td>\n",
       "      <td>0</td>\n",
       "      <td>0</td>\n",
       "      <td>4</td>\n",
       "      <td>Wpt0sFHcPtV5MO9He7yMKQ</td>\n",
       "      <td>0</td>\n",
       "      <td>0</td>\n",
       "      <td>0</td>\n",
       "      <td>0</td>\n",
       "      <td>0</td>\n",
       "    </tr>\n",
       "    <tr>\n",
       "      <th>3</th>\n",
       "      <td>1</td>\n",
       "      <td>0</td>\n",
       "      <td>0</td>\n",
       "      <td>0</td>\n",
       "      <td>0</td>\n",
       "      <td>0</td>\n",
       "      <td>0</td>\n",
       "      <td>1</td>\n",
       "      <td>0</td>\n",
       "      <td>0</td>\n",
       "      <td>2</td>\n",
       "      <td>W1Yr6c2XDx_RBjb6WsV-aQ</td>\n",
       "      <td>1</td>\n",
       "      <td>0</td>\n",
       "      <td>0</td>\n",
       "      <td>0</td>\n",
       "      <td>1</td>\n",
       "    </tr>\n",
       "    <tr>\n",
       "      <th>4</th>\n",
       "      <td>1</td>\n",
       "      <td>0</td>\n",
       "      <td>0</td>\n",
       "      <td>0</td>\n",
       "      <td>0</td>\n",
       "      <td>0</td>\n",
       "      <td>0</td>\n",
       "      <td>1</td>\n",
       "      <td>0</td>\n",
       "      <td>0</td>\n",
       "      <td>2</td>\n",
       "      <td>Uy3_5nLo3sYkAuSX6mjdmg</td>\n",
       "      <td>0</td>\n",
       "      <td>1</td>\n",
       "      <td>0</td>\n",
       "      <td>0</td>\n",
       "      <td>1</td>\n",
       "    </tr>\n",
       "  </tbody>\n",
       "</table>\n",
       "</div>"
      ],
      "text/plain": [
       "   american  fast_food  mexican  chinese  italian  japanese  others  casual  \\\n",
       "0         1          0        0        0        0         0       0       1   \n",
       "1         1          0        0        0        0         0       0       0   \n",
       "2         0          1        0        0        0         0       0       0   \n",
       "3         1          0        0        0        0         0       0       1   \n",
       "4         1          0        0        0        0         0       0       1   \n",
       "\n",
       "   classy  upscale  noise_level             business_id  happy_hour  \\\n",
       "0       0        0            2  Pd52CjgyEU3Rb8co6QfTPw           1   \n",
       "1       0        0            4  n7V4cD-KqqE3OXk0irJTyA           0   \n",
       "2       0        0            4  Wpt0sFHcPtV5MO9He7yMKQ           0   \n",
       "3       0        0            2  W1Yr6c2XDx_RBjb6WsV-aQ           1   \n",
       "4       0        0            2  Uy3_5nLo3sYkAuSX6mjdmg           0   \n",
       "\n",
       "   latenight  brunch  dinner  lunch  \n",
       "0          0       0       0      1  \n",
       "1          1       1       0      0  \n",
       "2          0       0       0      0  \n",
       "3          0       0       0      1  \n",
       "4          1       0       0      1  "
      ]
     },
     "execution_count": 4,
     "metadata": {},
     "output_type": "execute_result"
    }
   ],
   "source": [
    "df_features.head()"
   ]
  },
  {
   "cell_type": "code",
   "execution_count": 5,
   "metadata": {},
   "outputs": [
    {
     "data": {
      "text/plain": [
       "4727"
      ]
     },
     "execution_count": 5,
     "metadata": {},
     "output_type": "execute_result"
    }
   ],
   "source": [
    "len(df['business_id'].unique())"
   ]
  },
  {
   "cell_type": "markdown",
   "metadata": {},
   "source": [
    "There are 4727 restaurants in Las Vegas in Our dataset."
   ]
  },
  {
   "cell_type": "code",
   "execution_count": 6,
   "metadata": {},
   "outputs": [
    {
     "data": {
      "text/plain": [
       "336464"
      ]
     },
     "execution_count": 6,
     "metadata": {},
     "output_type": "execute_result"
    }
   ],
   "source": [
    "len(df['user_id'].unique())"
   ]
  },
  {
   "cell_type": "markdown",
   "metadata": {},
   "source": [
    "There are 336464 users in our dataset."
   ]
  },
  {
   "cell_type": "code",
   "execution_count": 7,
   "metadata": {},
   "outputs": [
    {
     "data": {
      "image/png": "[encoded data removed]",
      "text/plain": [
       "<matplotlib.figure.Figure at 0x1149ddac8>"
      ]
     },
     "metadata": {},
     "output_type": "display_data"
    }
   ],
   "source": [
    "df['user_id'].value_counts().hist(bins = 100, range = (0,20))\n",
    "plt.show()"
   ]
  },
  {
   "cell_type": "markdown",
   "metadata": {},
   "source": [
    "Lots of users only write a few reviews. A few users write thousands of reviews."
   ]
  },
  {
   "cell_type": "markdown",
   "metadata": {},
   "source": [
    "Choose users with more than 10 reviews"
   ]
  },
  {
   "cell_type": "code",
   "execution_count": 8,
   "metadata": {},
   "outputs": [
    {
     "data": {
      "text/plain": [
       "11641"
      ]
     },
     "execution_count": 8,
     "metadata": {},
     "output_type": "execute_result"
    }
   ],
   "source": [
    "re = df['user_id'].value_counts().index[df['user_id'].value_counts().values > 10]\n",
    "df1=df[df['user_id'].isin(re.values)]\n",
    "len(df1['user_id'].unique())"
   ]
  },
  {
   "cell_type": "markdown",
   "metadata": {},
   "source": [
    "There are 11641 users after filtering for 10 reviews."
   ]
  },
  {
   "cell_type": "code",
   "execution_count": 9,
   "metadata": {},
   "outputs": [
    {
     "data": {
      "text/plain": [
       "count    11641.000000\n",
       "mean        25.456404\n",
       "std         30.763093\n",
       "min         11.000000\n",
       "25%         13.000000\n",
       "50%         17.000000\n",
       "75%         26.000000\n",
       "max       1143.000000\n",
       "Name: user_id, dtype: float64"
      ]
     },
     "execution_count": 9,
     "metadata": {},
     "output_type": "execute_result"
    }
   ],
   "source": [
    "df1['user_id'].value_counts().describe()"
   ]
  },
  {
   "cell_type": "code",
   "execution_count": 10,
   "metadata": {
    "collapsed": true
   },
   "outputs": [],
   "source": [
    "df_ratings = df1[['user_id', 'business_id', 'stars']] \n",
    "df_name = df1[['business_id','name']]\n",
    "df_text = df1[['business_id','text']]\n",
    "category=df_features[df_features['business_id'].isin(df1['business_id'].unique())]"
   ]
  },
  {
   "cell_type": "code",
   "execution_count": 11,
   "metadata": {},
   "outputs": [
    {
     "data": {
      "text/html": [
       "<div>\n",
       "<style>\n",
       "    .dataframe thead tr:only-child th {\n",
       "        text-align: right;\n",
       "    }\n",
       "\n",
       "    .dataframe thead th {\n",
       "        text-align: left;\n",
       "    }\n",
       "\n",
       "    .dataframe tbody tr th {\n",
       "        vertical-align: top;\n",
       "    }\n",
       "</style>\n",
       "<table border=\"1\" class=\"dataframe\">\n",
       "  <thead>\n",
       "    <tr style=\"text-align: right;\">\n",
       "      <th></th>\n",
       "      <th>user_id</th>\n",
       "      <th>business_id</th>\n",
       "      <th>stars</th>\n",
       "    </tr>\n",
       "  </thead>\n",
       "  <tbody>\n",
       "    <tr>\n",
       "      <th>1</th>\n",
       "      <td>oFyOUOeGTRZhFPF9uTqrTQ</td>\n",
       "      <td>--9e1ONYQuAa-CB_Rrw7Tw</td>\n",
       "      <td>5.0</td>\n",
       "    </tr>\n",
       "    <tr>\n",
       "      <th>4</th>\n",
       "      <td>9bxdPvAhP6cuipD5s2UnCg</td>\n",
       "      <td>--9e1ONYQuAa-CB_Rrw7Tw</td>\n",
       "      <td>5.0</td>\n",
       "    </tr>\n",
       "    <tr>\n",
       "      <th>8</th>\n",
       "      <td>HmN7p502YMJGkBNv5bzi1w</td>\n",
       "      <td>--9e1ONYQuAa-CB_Rrw7Tw</td>\n",
       "      <td>5.0</td>\n",
       "    </tr>\n",
       "    <tr>\n",
       "      <th>9</th>\n",
       "      <td>3RTesI_MAwct13LWm4rhLw</td>\n",
       "      <td>--9e1ONYQuAa-CB_Rrw7Tw</td>\n",
       "      <td>4.0</td>\n",
       "    </tr>\n",
       "    <tr>\n",
       "      <th>10</th>\n",
       "      <td>4PIcs3X-Ro_KoczDJ3y4ZQ</td>\n",
       "      <td>--9e1ONYQuAa-CB_Rrw7Tw</td>\n",
       "      <td>5.0</td>\n",
       "    </tr>\n",
       "  </tbody>\n",
       "</table>\n",
       "</div>"
      ],
      "text/plain": [
       "                   user_id             business_id  stars\n",
       "1   oFyOUOeGTRZhFPF9uTqrTQ  --9e1ONYQuAa-CB_Rrw7Tw    5.0\n",
       "4   9bxdPvAhP6cuipD5s2UnCg  --9e1ONYQuAa-CB_Rrw7Tw    5.0\n",
       "8   HmN7p502YMJGkBNv5bzi1w  --9e1ONYQuAa-CB_Rrw7Tw    5.0\n",
       "9   3RTesI_MAwct13LWm4rhLw  --9e1ONYQuAa-CB_Rrw7Tw    4.0\n",
       "10  4PIcs3X-Ro_KoczDJ3y4ZQ  --9e1ONYQuAa-CB_Rrw7Tw    5.0"
      ]
     },
     "execution_count": 11,
     "metadata": {},
     "output_type": "execute_result"
    }
   ],
   "source": [
    "df_ratings.head()"
   ]
  },
  {
   "cell_type": "code",
   "execution_count": 12,
   "metadata": {},
   "outputs": [
    {
     "data": {
      "text/plain": [
       "3.7372088628525537"
      ]
     },
     "execution_count": 12,
     "metadata": {},
     "output_type": "execute_result"
    }
   ],
   "source": [
    "df_ratings['stars'].mean()"
   ]
  },
  {
   "cell_type": "markdown",
   "metadata": {},
   "source": [
    "#### Evaluation\n",
    "#### We use precision@k and recall@k to measure our models.\n",
    "#### Precision@k = (# of recommended items @k that are relevant) / (# of recommended items @k)\n",
    "#### Recall@k = (# of recommended items @k that are relevant) / (total # of relevant items)\n"
   ]
  },
  {
   "cell_type": "code",
   "execution_count": 13,
   "metadata": {
    "collapsed": true
   },
   "outputs": [],
   "source": [
    "def precision_recall_at_k(predictions, k=10, threshold=3.5):\n",
    "    '''Return precision and recall at k metrics for each user.'''\n",
    "\n",
    "    # First map the predictions to each user.\n",
    "    user_est_true = defaultdict(list)\n",
    "    for uid, _, true_r, est, _ in predictions:\n",
    "        user_est_true[uid].append((est, true_r))\n",
    "\n",
    "    precisions = dict()\n",
    "    recalls = dict()\n",
    "    for uid, user_ratings in user_est_true.items():\n",
    "\n",
    "        # Sort user ratings by estimated value\n",
    "        user_ratings.sort(key=lambda x: x[0], reverse=True)\n",
    "\n",
    "        # Number of relevant items\n",
    "        n_rel = sum((true_r >= threshold) for (_, true_r) in user_ratings)\n",
    "\n",
    "        # Number of recommended items in top k\n",
    "        n_rec_k = sum((est >= threshold) for (est, _) in user_ratings[:k])\n",
    "\n",
    "        # Number of relevant and recommended items in top k\n",
    "        n_rel_and_rec_k = sum(((true_r >= threshold) and (est >= threshold))\n",
    "                              for (est, true_r) in user_ratings[:k])\n",
    "\n",
    "        # Precision@K: Proportion of recommended items that are relevant\n",
    "        precisions[uid] = n_rel_and_rec_k / n_rec_k if n_rec_k != 0 else 1\n",
    "\n",
    "        # Recall@K: Proportion of relevant items that are recommended\n",
    "        recalls[uid] = n_rel_and_rec_k / n_rel if n_rel != 0 else 1\n",
    "\n",
    "    return precisions, recalls\n"
   ]
  },
  {
   "cell_type": "markdown",
   "metadata": {},
   "source": [
    "# SVD"
   ]
  },
  {
   "cell_type": "code",
   "execution_count": 14,
   "metadata": {},
   "outputs": [
    {
     "name": "stdout",
     "output_type": "stream",
     "text": [
      "fold number 1\n",
      "On testset,  RMSE: 1.0831\n",
      "Precision: 0.7718971631205801\n",
      "Recall: 0.738830609026899\n",
      "On trainset, RMSE: 0.7684\n",
      "Precision: 0.9591787647109206\n",
      "Recall: 0.501943678934592\n",
      "fold number 2\n",
      "On testset,  RMSE: 1.0840\n",
      "Precision: 0.7740850950435376\n",
      "Recall: 0.7421331260071131\n",
      "On trainset, RMSE: 0.7673\n",
      "Precision: 0.9588981473527345\n",
      "Recall: 0.5019723585432083\n",
      "fold number 3\n",
      "On testset,  RMSE: 1.0824\n",
      "Precision: 0.7791255811199084\n",
      "Recall: 0.738232322427144\n",
      "On trainset, RMSE: 0.7694\n",
      "Precision: 0.9574936288405806\n",
      "Recall: 0.49996126342732156\n",
      "fold number 4\n",
      "On testset,  RMSE: 1.0805\n",
      "Precision: 0.7752410957283287\n",
      "Recall: 0.743759365006783\n",
      "On trainset, RMSE: 0.7680\n",
      "Precision: 0.9591315179108189\n",
      "Recall: 0.5010308504276293\n",
      "fold number 5\n",
      "On testset,  RMSE: 1.0782\n",
      "Precision: 0.7752541418452471\n",
      "Recall: 0.7416871549827395\n",
      "On trainset, RMSE: 0.7689\n",
      "Precision: 0.9590098216075249\n",
      "Recall: 0.5003875440578597\n"
     ]
    }
   ],
   "source": [
    "reader= Reader()\n",
    "data = Dataset.load_from_df(df_ratings, reader)\n",
    "svd = SVD()\n",
    "kf = KFold(n_splits=5)\n",
    "svd_train_precision = list()\n",
    "svd_train_recall = list()\n",
    "svd_test_recall = list()\n",
    "svd_test_precision = list()\n",
    "\n",
    "for i, (trainset_cv, testset_cv) in enumerate(kf.split(data)):\n",
    "    print('fold number', i + 1)\n",
    "    svd.fit(trainset_cv)\n",
    "\n",
    "    print('On testset,', end='  ')\n",
    "    predictions = svd.test(testset_cv)\n",
    "    accuracy.rmse(predictions, verbose=True)\n",
    "    precisions, recalls = precision_recall_at_k(predictions, k=5, threshold=3.5)\n",
    "    svd_test_precision.append(sum(prec for prec in precisions.values()) / len(precisions))\n",
    "    svd_test_recall.append(sum(rec for rec in recalls.values()) / len(recalls))\n",
    "    print('Precision:',sum(prec for prec in precisions.values()) / len(precisions))\n",
    "    print('Recall:',sum(rec for rec in recalls.values()) / len(recalls))\n",
    "\n",
    "\n",
    "    print('On trainset,', end=' ')\n",
    "    predictions = svd.test(trainset_cv.build_testset())\n",
    "    accuracy.rmse(predictions, verbose=True)\n",
    "    precisions, recalls = precision_recall_at_k(predictions, k=5, threshold=3.5)\n",
    "    svd_train_precision.append(sum(prec for prec in precisions.values()) / len(precisions))\n",
    "    svd_train_recall.append(sum(rec for rec in recalls.values()) / len(recalls))\n",
    "    print('Precision:',sum(prec for prec in precisions.values()) / len(precisions))\n",
    "    print('Recall:',sum(rec for rec in recalls.values()) / len(recalls))\n"
   ]
  },
  {
   "cell_type": "code",
   "execution_count": 15,
   "metadata": {},
   "outputs": [
    {
     "data": {
      "text/plain": [
       "0.7409285154901356"
      ]
     },
     "execution_count": 15,
     "metadata": {},
     "output_type": "execute_result"
    }
   ],
   "source": [
    "np.mean(svd_test_recall)"
   ]
  },
  {
   "cell_type": "code",
   "execution_count": 16,
   "metadata": {},
   "outputs": [
    {
     "data": {
      "text/plain": [
       "0.7751206153715203"
      ]
     },
     "execution_count": 16,
     "metadata": {},
     "output_type": "execute_result"
    }
   ],
   "source": [
    "np.mean(svd_test_precision)"
   ]
  },
  {
   "cell_type": "code",
   "execution_count": 17,
   "metadata": {},
   "outputs": [
    {
     "data": {
      "text/html": [
       "<div>\n",
       "<style>\n",
       "    .dataframe thead tr:only-child th {\n",
       "        text-align: right;\n",
       "    }\n",
       "\n",
       "    .dataframe thead th {\n",
       "        text-align: left;\n",
       "    }\n",
       "\n",
       "    .dataframe tbody tr th {\n",
       "        vertical-align: top;\n",
       "    }\n",
       "</style>\n",
       "<table border=\"1\" class=\"dataframe\">\n",
       "  <thead>\n",
       "    <tr style=\"text-align: right;\">\n",
       "      <th></th>\n",
       "      <th>user_id</th>\n",
       "      <th>business_id</th>\n",
       "      <th>stars</th>\n",
       "    </tr>\n",
       "  </thead>\n",
       "  <tbody>\n",
       "    <tr>\n",
       "      <th>44003</th>\n",
       "      <td>-go-R_jzvYLYngQbfKN4_A</td>\n",
       "      <td>2XkVexeY_8zyc9nriSElQg</td>\n",
       "      <td>4.0</td>\n",
       "    </tr>\n",
       "    <tr>\n",
       "      <th>60060</th>\n",
       "      <td>-go-R_jzvYLYngQbfKN4_A</td>\n",
       "      <td>3IwCop28R1_L5jMv6AkL8Q</td>\n",
       "      <td>5.0</td>\n",
       "    </tr>\n",
       "    <tr>\n",
       "      <th>140916</th>\n",
       "      <td>-go-R_jzvYLYngQbfKN4_A</td>\n",
       "      <td>9XelmxS5q9tv7uClvjGqMg</td>\n",
       "      <td>4.0</td>\n",
       "    </tr>\n",
       "    <tr>\n",
       "      <th>143867</th>\n",
       "      <td>-go-R_jzvYLYngQbfKN4_A</td>\n",
       "      <td>9qcTpWYxrZrN13p1zAP6dA</td>\n",
       "      <td>4.0</td>\n",
       "    </tr>\n",
       "    <tr>\n",
       "      <th>167783</th>\n",
       "      <td>-go-R_jzvYLYngQbfKN4_A</td>\n",
       "      <td>BjS35X3-_-9TP-RyfzoC_Q</td>\n",
       "      <td>2.0</td>\n",
       "    </tr>\n",
       "    <tr>\n",
       "      <th>175601</th>\n",
       "      <td>-go-R_jzvYLYngQbfKN4_A</td>\n",
       "      <td>CSaVK9wgqe2_tQuuCDINyQ</td>\n",
       "      <td>3.0</td>\n",
       "    </tr>\n",
       "    <tr>\n",
       "      <th>227016</th>\n",
       "      <td>-go-R_jzvYLYngQbfKN4_A</td>\n",
       "      <td>F5BCXUpQpCRPeFmWnQmSJA</td>\n",
       "      <td>5.0</td>\n",
       "    </tr>\n",
       "    <tr>\n",
       "      <th>292263</th>\n",
       "      <td>-go-R_jzvYLYngQbfKN4_A</td>\n",
       "      <td>JKTMgelIQ-VHn7SL5nyiWA</td>\n",
       "      <td>5.0</td>\n",
       "    </tr>\n",
       "    <tr>\n",
       "      <th>386403</th>\n",
       "      <td>-go-R_jzvYLYngQbfKN4_A</td>\n",
       "      <td>PM0A7ZgbxvtbRCj931PbyQ</td>\n",
       "      <td>5.0</td>\n",
       "    </tr>\n",
       "    <tr>\n",
       "      <th>408701</th>\n",
       "      <td>-go-R_jzvYLYngQbfKN4_A</td>\n",
       "      <td>Ql0iiHl2xpIwtkuC255Wiw</td>\n",
       "      <td>3.0</td>\n",
       "    </tr>\n",
       "    <tr>\n",
       "      <th>454509</th>\n",
       "      <td>-go-R_jzvYLYngQbfKN4_A</td>\n",
       "      <td>TW58a4UkMcksdfQ7znUqsA</td>\n",
       "      <td>4.0</td>\n",
       "    </tr>\n",
       "    <tr>\n",
       "      <th>457819</th>\n",
       "      <td>-go-R_jzvYLYngQbfKN4_A</td>\n",
       "      <td>TmAbrQoXslJsReCqLfwnXA</td>\n",
       "      <td>4.0</td>\n",
       "    </tr>\n",
       "    <tr>\n",
       "      <th>503309</th>\n",
       "      <td>-go-R_jzvYLYngQbfKN4_A</td>\n",
       "      <td>Wyjk6RBeOPQr7td5Tqwksw</td>\n",
       "      <td>5.0</td>\n",
       "    </tr>\n",
       "    <tr>\n",
       "      <th>534904</th>\n",
       "      <td>-go-R_jzvYLYngQbfKN4_A</td>\n",
       "      <td>YavRvjbLsvh4DYDJPAfJIA</td>\n",
       "      <td>5.0</td>\n",
       "    </tr>\n",
       "    <tr>\n",
       "      <th>561818</th>\n",
       "      <td>-go-R_jzvYLYngQbfKN4_A</td>\n",
       "      <td>_kdpjoGrIzA64E6aXHA66w</td>\n",
       "      <td>4.0</td>\n",
       "    </tr>\n",
       "    <tr>\n",
       "      <th>586888</th>\n",
       "      <td>-go-R_jzvYLYngQbfKN4_A</td>\n",
       "      <td>blLNQHrgAKR2md7MMx2pzw</td>\n",
       "      <td>2.0</td>\n",
       "    </tr>\n",
       "    <tr>\n",
       "      <th>607045</th>\n",
       "      <td>-go-R_jzvYLYngQbfKN4_A</td>\n",
       "      <td>dGuVYsA5DMCm_TjSbX6x7g</td>\n",
       "      <td>5.0</td>\n",
       "    </tr>\n",
       "    <tr>\n",
       "      <th>686786</th>\n",
       "      <td>-go-R_jzvYLYngQbfKN4_A</td>\n",
       "      <td>hZDNYOfZnVp10pFsycr8rg</td>\n",
       "      <td>5.0</td>\n",
       "    </tr>\n",
       "    <tr>\n",
       "      <th>708882</th>\n",
       "      <td>-go-R_jzvYLYngQbfKN4_A</td>\n",
       "      <td>inuW6Gl02Mf8G5RRk39_lw</td>\n",
       "      <td>5.0</td>\n",
       "    </tr>\n",
       "    <tr>\n",
       "      <th>715489</th>\n",
       "      <td>-go-R_jzvYLYngQbfKN4_A</td>\n",
       "      <td>jVD09YgKsDtKD5sOYes6wg</td>\n",
       "      <td>4.0</td>\n",
       "    </tr>\n",
       "    <tr>\n",
       "      <th>753964</th>\n",
       "      <td>-go-R_jzvYLYngQbfKN4_A</td>\n",
       "      <td>mswelTP1cQiuAps2fSGuBw</td>\n",
       "      <td>3.0</td>\n",
       "    </tr>\n",
       "    <tr>\n",
       "      <th>858337</th>\n",
       "      <td>-go-R_jzvYLYngQbfKN4_A</td>\n",
       "      <td>upgjUq616Yz1IvAvysDLWA</td>\n",
       "      <td>4.0</td>\n",
       "    </tr>\n",
       "    <tr>\n",
       "      <th>874268</th>\n",
       "      <td>-go-R_jzvYLYngQbfKN4_A</td>\n",
       "      <td>w5LUtmw4G1KD7qAntqGd9w</td>\n",
       "      <td>3.0</td>\n",
       "    </tr>\n",
       "  </tbody>\n",
       "</table>\n",
       "</div>"
      ],
      "text/plain": [
       "                       user_id             business_id  stars\n",
       "44003   -go-R_jzvYLYngQbfKN4_A  2XkVexeY_8zyc9nriSElQg    4.0\n",
       "60060   -go-R_jzvYLYngQbfKN4_A  3IwCop28R1_L5jMv6AkL8Q    5.0\n",
       "140916  -go-R_jzvYLYngQbfKN4_A  9XelmxS5q9tv7uClvjGqMg    4.0\n",
       "143867  -go-R_jzvYLYngQbfKN4_A  9qcTpWYxrZrN13p1zAP6dA    4.0\n",
       "167783  -go-R_jzvYLYngQbfKN4_A  BjS35X3-_-9TP-RyfzoC_Q    2.0\n",
       "175601  -go-R_jzvYLYngQbfKN4_A  CSaVK9wgqe2_tQuuCDINyQ    3.0\n",
       "227016  -go-R_jzvYLYngQbfKN4_A  F5BCXUpQpCRPeFmWnQmSJA    5.0\n",
       "292263  -go-R_jzvYLYngQbfKN4_A  JKTMgelIQ-VHn7SL5nyiWA    5.0\n",
       "386403  -go-R_jzvYLYngQbfKN4_A  PM0A7ZgbxvtbRCj931PbyQ    5.0\n",
       "408701  -go-R_jzvYLYngQbfKN4_A  Ql0iiHl2xpIwtkuC255Wiw    3.0\n",
       "454509  -go-R_jzvYLYngQbfKN4_A  TW58a4UkMcksdfQ7znUqsA    4.0\n",
       "457819  -go-R_jzvYLYngQbfKN4_A  TmAbrQoXslJsReCqLfwnXA    4.0\n",
       "503309  -go-R_jzvYLYngQbfKN4_A  Wyjk6RBeOPQr7td5Tqwksw    5.0\n",
       "534904  -go-R_jzvYLYngQbfKN4_A  YavRvjbLsvh4DYDJPAfJIA    5.0\n",
       "561818  -go-R_jzvYLYngQbfKN4_A  _kdpjoGrIzA64E6aXHA66w    4.0\n",
       "586888  -go-R_jzvYLYngQbfKN4_A  blLNQHrgAKR2md7MMx2pzw    2.0\n",
       "607045  -go-R_jzvYLYngQbfKN4_A  dGuVYsA5DMCm_TjSbX6x7g    5.0\n",
       "686786  -go-R_jzvYLYngQbfKN4_A  hZDNYOfZnVp10pFsycr8rg    5.0\n",
       "708882  -go-R_jzvYLYngQbfKN4_A  inuW6Gl02Mf8G5RRk39_lw    5.0\n",
       "715489  -go-R_jzvYLYngQbfKN4_A  jVD09YgKsDtKD5sOYes6wg    4.0\n",
       "753964  -go-R_jzvYLYngQbfKN4_A  mswelTP1cQiuAps2fSGuBw    3.0\n",
       "858337  -go-R_jzvYLYngQbfKN4_A  upgjUq616Yz1IvAvysDLWA    4.0\n",
       "874268  -go-R_jzvYLYngQbfKN4_A  w5LUtmw4G1KD7qAntqGd9w    3.0"
      ]
     },
     "execution_count": 17,
     "metadata": {},
     "output_type": "execute_result"
    }
   ],
   "source": [
    "df_ratings[df_ratings['user_id']==\"-go-R_jzvYLYngQbfKN4_A\"]"
   ]
  },
  {
   "cell_type": "code",
   "execution_count": 18,
   "metadata": {
    "collapsed": true
   },
   "outputs": [],
   "source": [
    "example = df_ratings[df_ratings['user_id']==\"-go-R_jzvYLYngQbfKN4_A\"]\n",
    "pre = list()\n",
    "for i in range(len(example)):\n",
    "    pre.append(svd.predict('-go-R_jzvYLYngQbfKN4_A',example['business_id'].iloc[i])[3])"
   ]
  },
  {
   "cell_type": "code",
   "execution_count": 19,
   "metadata": {},
   "outputs": [
    {
     "data": {
      "text/html": [
       "<div>\n",
       "<style>\n",
       "    .dataframe thead tr:only-child th {\n",
       "        text-align: right;\n",
       "    }\n",
       "\n",
       "    .dataframe thead th {\n",
       "        text-align: left;\n",
       "    }\n",
       "\n",
       "    .dataframe tbody tr th {\n",
       "        vertical-align: top;\n",
       "    }\n",
       "</style>\n",
       "<table border=\"1\" class=\"dataframe\">\n",
       "  <thead>\n",
       "    <tr style=\"text-align: right;\">\n",
       "      <th></th>\n",
       "      <th>user_id</th>\n",
       "      <th>business_id</th>\n",
       "      <th>actual</th>\n",
       "      <th>predict</th>\n",
       "    </tr>\n",
       "  </thead>\n",
       "  <tbody>\n",
       "    <tr>\n",
       "      <th>0</th>\n",
       "      <td>-go-R_jzvYLYngQbfKN4_A</td>\n",
       "      <td>2XkVexeY_8zyc9nriSElQg</td>\n",
       "      <td>4</td>\n",
       "      <td>4.35074</td>\n",
       "    </tr>\n",
       "    <tr>\n",
       "      <th>1</th>\n",
       "      <td>-go-R_jzvYLYngQbfKN4_A</td>\n",
       "      <td>3IwCop28R1_L5jMv6AkL8Q</td>\n",
       "      <td>5</td>\n",
       "      <td>4.3832</td>\n",
       "    </tr>\n",
       "    <tr>\n",
       "      <th>2</th>\n",
       "      <td>-go-R_jzvYLYngQbfKN4_A</td>\n",
       "      <td>9XelmxS5q9tv7uClvjGqMg</td>\n",
       "      <td>4</td>\n",
       "      <td>4.07368</td>\n",
       "    </tr>\n",
       "    <tr>\n",
       "      <th>3</th>\n",
       "      <td>-go-R_jzvYLYngQbfKN4_A</td>\n",
       "      <td>9qcTpWYxrZrN13p1zAP6dA</td>\n",
       "      <td>4</td>\n",
       "      <td>3.94176</td>\n",
       "    </tr>\n",
       "    <tr>\n",
       "      <th>4</th>\n",
       "      <td>-go-R_jzvYLYngQbfKN4_A</td>\n",
       "      <td>BjS35X3-_-9TP-RyfzoC_Q</td>\n",
       "      <td>2</td>\n",
       "      <td>3.45975</td>\n",
       "    </tr>\n",
       "  </tbody>\n",
       "</table>\n",
       "</div>"
      ],
      "text/plain": [
       "                  user_id             business_id actual  predict\n",
       "0  -go-R_jzvYLYngQbfKN4_A  2XkVexeY_8zyc9nriSElQg      4  4.35074\n",
       "1  -go-R_jzvYLYngQbfKN4_A  3IwCop28R1_L5jMv6AkL8Q      5   4.3832\n",
       "2  -go-R_jzvYLYngQbfKN4_A  9XelmxS5q9tv7uClvjGqMg      4  4.07368\n",
       "3  -go-R_jzvYLYngQbfKN4_A  9qcTpWYxrZrN13p1zAP6dA      4  3.94176\n",
       "4  -go-R_jzvYLYngQbfKN4_A  BjS35X3-_-9TP-RyfzoC_Q      2  3.45975"
      ]
     },
     "execution_count": 19,
     "metadata": {},
     "output_type": "execute_result"
    }
   ],
   "source": [
    "b=pd.DataFrame(np.concatenate((example,pd.DataFrame(pre)),axis=1))\n",
    "b.columns= ['user_id','business_id','actual','predict']\n",
    "b.head()"
   ]
  },
  {
   "cell_type": "code",
   "execution_count": 20,
   "metadata": {
    "scrolled": true
   },
   "outputs": [
    {
     "name": "stderr",
     "output_type": "stream",
     "text": [
      "/anaconda/lib/python3.6/site-packages/ipykernel_launcher.py:2: SettingWithCopyWarning: \n",
      "A value is trying to be set on a copy of a slice from a DataFrame\n",
      "\n",
      "See the caveats in the documentation: http://pandas.pydata.org/pandas-docs/stable/indexing.html#indexing-view-versus-copy\n",
      "  \n"
     ]
    }
   ],
   "source": [
    "b['relevant'] = 0 \n",
    "b['relevant'][b['actual']>3.5] =1"
   ]
  },
  {
   "cell_type": "code",
   "execution_count": 21,
   "metadata": {},
   "outputs": [
    {
     "name": "stderr",
     "output_type": "stream",
     "text": [
      "/anaconda/lib/python3.6/site-packages/ipykernel_launcher.py:2: SettingWithCopyWarning: \n",
      "A value is trying to be set on a copy of a slice from a DataFrame\n",
      "\n",
      "See the caveats in the documentation: http://pandas.pydata.org/pandas-docs/stable/indexing.html#indexing-view-versus-copy\n",
      "  \n"
     ]
    }
   ],
   "source": [
    "b['recommend'] = 0 \n",
    "b['recommend'][b['predict']>3.5] =1"
   ]
  },
  {
   "cell_type": "code",
   "execution_count": 22,
   "metadata": {},
   "outputs": [
    {
     "data": {
      "text/html": [
       "<div>\n",
       "<style>\n",
       "    .dataframe thead tr:only-child th {\n",
       "        text-align: right;\n",
       "    }\n",
       "\n",
       "    .dataframe thead th {\n",
       "        text-align: left;\n",
       "    }\n",
       "\n",
       "    .dataframe tbody tr th {\n",
       "        vertical-align: top;\n",
       "    }\n",
       "</style>\n",
       "<table border=\"1\" class=\"dataframe\">\n",
       "  <thead>\n",
       "    <tr style=\"text-align: right;\">\n",
       "      <th></th>\n",
       "      <th>user_id</th>\n",
       "      <th>business_id</th>\n",
       "      <th>actual</th>\n",
       "      <th>predict</th>\n",
       "      <th>relevant</th>\n",
       "      <th>recommend</th>\n",
       "    </tr>\n",
       "  </thead>\n",
       "  <tbody>\n",
       "    <tr>\n",
       "      <th>0</th>\n",
       "      <td>-go-R_jzvYLYngQbfKN4_A</td>\n",
       "      <td>2XkVexeY_8zyc9nriSElQg</td>\n",
       "      <td>4</td>\n",
       "      <td>4.35074</td>\n",
       "      <td>1</td>\n",
       "      <td>1</td>\n",
       "    </tr>\n",
       "    <tr>\n",
       "      <th>1</th>\n",
       "      <td>-go-R_jzvYLYngQbfKN4_A</td>\n",
       "      <td>3IwCop28R1_L5jMv6AkL8Q</td>\n",
       "      <td>5</td>\n",
       "      <td>4.3832</td>\n",
       "      <td>1</td>\n",
       "      <td>1</td>\n",
       "    </tr>\n",
       "    <tr>\n",
       "      <th>2</th>\n",
       "      <td>-go-R_jzvYLYngQbfKN4_A</td>\n",
       "      <td>9XelmxS5q9tv7uClvjGqMg</td>\n",
       "      <td>4</td>\n",
       "      <td>4.07368</td>\n",
       "      <td>1</td>\n",
       "      <td>1</td>\n",
       "    </tr>\n",
       "    <tr>\n",
       "      <th>3</th>\n",
       "      <td>-go-R_jzvYLYngQbfKN4_A</td>\n",
       "      <td>9qcTpWYxrZrN13p1zAP6dA</td>\n",
       "      <td>4</td>\n",
       "      <td>3.94176</td>\n",
       "      <td>1</td>\n",
       "      <td>1</td>\n",
       "    </tr>\n",
       "    <tr>\n",
       "      <th>4</th>\n",
       "      <td>-go-R_jzvYLYngQbfKN4_A</td>\n",
       "      <td>BjS35X3-_-9TP-RyfzoC_Q</td>\n",
       "      <td>2</td>\n",
       "      <td>3.45975</td>\n",
       "      <td>0</td>\n",
       "      <td>0</td>\n",
       "    </tr>\n",
       "  </tbody>\n",
       "</table>\n",
       "</div>"
      ],
      "text/plain": [
       "                  user_id             business_id actual  predict  relevant  \\\n",
       "0  -go-R_jzvYLYngQbfKN4_A  2XkVexeY_8zyc9nriSElQg      4  4.35074         1   \n",
       "1  -go-R_jzvYLYngQbfKN4_A  3IwCop28R1_L5jMv6AkL8Q      5   4.3832         1   \n",
       "2  -go-R_jzvYLYngQbfKN4_A  9XelmxS5q9tv7uClvjGqMg      4  4.07368         1   \n",
       "3  -go-R_jzvYLYngQbfKN4_A  9qcTpWYxrZrN13p1zAP6dA      4  3.94176         1   \n",
       "4  -go-R_jzvYLYngQbfKN4_A  BjS35X3-_-9TP-RyfzoC_Q      2  3.45975         0   \n",
       "\n",
       "   recommend  \n",
       "0          1  \n",
       "1          1  \n",
       "2          1  \n",
       "3          1  \n",
       "4          0  "
      ]
     },
     "execution_count": 22,
     "metadata": {},
     "output_type": "execute_result"
    }
   ],
   "source": [
    "b.head()"
   ]
  },
  {
   "cell_type": "code",
   "execution_count": 23,
   "metadata": {
    "collapsed": true
   },
   "outputs": [],
   "source": [
    "from sklearn.metrics import confusion_matrix"
   ]
  },
  {
   "cell_type": "code",
   "execution_count": 24,
   "metadata": {
    "scrolled": true
   },
   "outputs": [
    {
     "data": {
      "text/html": [
       "<div>\n",
       "<style>\n",
       "    .dataframe thead tr:only-child th {\n",
       "        text-align: right;\n",
       "    }\n",
       "\n",
       "    .dataframe thead th {\n",
       "        text-align: left;\n",
       "    }\n",
       "\n",
       "    .dataframe tbody tr th {\n",
       "        vertical-align: top;\n",
       "    }\n",
       "</style>\n",
       "<table border=\"1\" class=\"dataframe\">\n",
       "  <thead>\n",
       "    <tr style=\"text-align: right;\">\n",
       "      <th></th>\n",
       "      <th>Recommend</th>\n",
       "      <th>Not Recommend</th>\n",
       "    </tr>\n",
       "  </thead>\n",
       "  <tbody>\n",
       "    <tr>\n",
       "      <th>Relevant</th>\n",
       "      <td>16</td>\n",
       "      <td>1</td>\n",
       "    </tr>\n",
       "    <tr>\n",
       "      <th>Not Relevant</th>\n",
       "      <td>2</td>\n",
       "      <td>4</td>\n",
       "    </tr>\n",
       "  </tbody>\n",
       "</table>\n",
       "</div>"
      ],
      "text/plain": [
       "              Recommend  Not Recommend\n",
       "Relevant             16              1\n",
       "Not Relevant          2              4"
      ]
     },
     "execution_count": 24,
     "metadata": {},
     "output_type": "execute_result"
    }
   ],
   "source": [
    "cm = confusion_matrix(b['relevant'], b['recommend'], labels = [1,0])\n",
    "cm_df = pd.DataFrame(cm, columns = ['Recommend', 'Not Recommend'])\n",
    "cm_df.index = ['Relevant','Not Relevant']\n",
    "cm_df"
   ]
  },
  {
   "cell_type": "markdown",
   "metadata": {},
   "source": [
    "# item-item"
   ]
  },
  {
   "cell_type": "code",
   "execution_count": 25,
   "metadata": {
    "scrolled": true
   },
   "outputs": [
    {
     "name": "stdout",
     "output_type": "stream",
     "text": [
      "fold number 1\n",
      "Computing the cosine similarity matrix...\n",
      "Done computing similarity matrix.\n",
      "On testset,  RMSE: 1.1745\n",
      "Precision: 0.742588318835449\n",
      "Recall: 0.6966127340323118\n",
      "On trainset, RMSE: 1.0483\n",
      "Precision: 0.9507874466683756\n",
      "Recall: 0.3400096550151158\n",
      "fold number 2\n",
      "Computing the cosine similarity matrix...\n",
      "Done computing similarity matrix.\n",
      "On testset,  RMSE: 1.1589\n",
      "Precision: 0.7545737122557858\n",
      "Recall: 0.6963951968293894\n",
      "On trainset, RMSE: 1.0510\n",
      "Precision: 0.9507659708501444\n",
      "Recall: 0.3407919600704886\n",
      "fold number 3\n",
      "Computing the cosine similarity matrix...\n",
      "Done computing similarity matrix.\n",
      "On testset,  RMSE: 1.1662\n",
      "Precision: 0.7558129215477578\n",
      "Recall: 0.6877391716658441\n",
      "On trainset, RMSE: 1.0495\n",
      "Precision: 0.9516879993127637\n",
      "Recall: 0.3376438761018279\n",
      "fold number 4\n",
      "Computing the cosine similarity matrix...\n",
      "Done computing similarity matrix.\n",
      "On testset,  RMSE: 1.1651\n",
      "Precision: 0.7472395184724091\n",
      "Recall: 0.6921456449327419\n",
      "On trainset, RMSE: 1.0506\n",
      "Precision: 0.9520273172407779\n",
      "Recall: 0.34025872780792554\n",
      "fold number 5\n",
      "Computing the cosine similarity matrix...\n",
      "Done computing similarity matrix.\n",
      "On testset,  RMSE: 1.1702\n",
      "Precision: 0.7525731927088083\n",
      "Recall: 0.6908096335009764\n",
      "On trainset, RMSE: 1.0493\n",
      "Precision: 0.951344386221106\n",
      "Recall: 0.338513998819919\n"
     ]
    }
   ],
   "source": [
    "sim_options = {'name': 'cosine',\n",
    "               'user_based': False  # compute similarities between items\n",
    "               }\n",
    "algo = KNNBasic(sim_options=sim_options)\n",
    "kf = KFold(n_splits=5)\n",
    "ii_train_precision = list()\n",
    "ii_train_recall = list()\n",
    "ii_test_recall = list()\n",
    "ii_test_precision = list()\n",
    "\n",
    "for i, (trainset_cv, testset_cv) in enumerate(kf.split(data)):\n",
    "    print('fold number', i + 1)\n",
    "    algo.fit(trainset_cv)\n",
    "\n",
    "    print('On testset,', end='  ')\n",
    "    predictions = algo.test(testset_cv)\n",
    "    accuracy.rmse(predictions, verbose=True)\n",
    "    precisions, recalls = precision_recall_at_k(predictions, k=5, threshold=3.5)\n",
    "    ii_test_precision.append(sum(prec for prec in precisions.values()) / len(precisions))\n",
    "    ii_test_recall.append(sum(rec for rec in recalls.values()) / len(recalls))\n",
    " \n",
    "    print('Precision:',sum(prec for prec in precisions.values()) / len(precisions))\n",
    "    print('Recall:',sum(rec for rec in recalls.values()) / len(recalls))\n",
    "\n",
    "\n",
    "    print('On trainset,', end=' ')\n",
    "    predictions = algo.test(trainset_cv.build_testset())\n",
    "    accuracy.rmse(predictions, verbose=True)\n",
    "    precisions, recalls = precision_recall_at_k(predictions, k=5, threshold=3.5)\n",
    "    ii_train_precision.append(sum(prec for prec in precisions.values()) / len(precisions))\n",
    "    ii_train_recall.append(sum(rec for rec in recalls.values()) / len(recalls))\n",
    "    print('Precision:',sum(prec for prec in precisions.values()) / len(precisions))\n",
    "    print('Recall:',sum(rec for rec in recalls.values()) / len(recalls))\n"
   ]
  },
  {
   "cell_type": "code",
   "execution_count": 26,
   "metadata": {},
   "outputs": [
    {
     "data": {
      "text/plain": [
       "0.6927404761922527"
      ]
     },
     "execution_count": 26,
     "metadata": {},
     "output_type": "execute_result"
    }
   ],
   "source": [
    "np.mean(ii_test_recall)"
   ]
  },
  {
   "cell_type": "code",
   "execution_count": 27,
   "metadata": {},
   "outputs": [
    {
     "data": {
      "text/plain": [
       "0.750557532764042"
      ]
     },
     "execution_count": 27,
     "metadata": {},
     "output_type": "execute_result"
    }
   ],
   "source": [
    "np.mean(ii_test_precision)"
   ]
  },
  {
   "cell_type": "code",
   "execution_count": 29,
   "metadata": {},
   "outputs": [
    {
     "data": {
      "text/html": [
       "<div>\n",
       "<style>\n",
       "    .dataframe thead tr:only-child th {\n",
       "        text-align: right;\n",
       "    }\n",
       "\n",
       "    .dataframe thead th {\n",
       "        text-align: left;\n",
       "    }\n",
       "\n",
       "    .dataframe tbody tr th {\n",
       "        vertical-align: top;\n",
       "    }\n",
       "</style>\n",
       "<table border=\"1\" class=\"dataframe\">\n",
       "  <thead>\n",
       "    <tr style=\"text-align: right;\">\n",
       "      <th></th>\n",
       "      <th>user_id</th>\n",
       "      <th>business_id</th>\n",
       "      <th>actual</th>\n",
       "      <th>predict</th>\n",
       "    </tr>\n",
       "  </thead>\n",
       "  <tbody>\n",
       "    <tr>\n",
       "      <th>0</th>\n",
       "      <td>X5A_vtJh_PTQgQ5pmluCqg</td>\n",
       "      <td>3IwCop28R1_L5jMv6AkL8Q</td>\n",
       "      <td>5</td>\n",
       "      <td>3.69821</td>\n",
       "    </tr>\n",
       "    <tr>\n",
       "      <th>1</th>\n",
       "      <td>X5A_vtJh_PTQgQ5pmluCqg</td>\n",
       "      <td>3LWsVfsSmb_Nzbi2YQ-NIA</td>\n",
       "      <td>4</td>\n",
       "      <td>3.8704</td>\n",
       "    </tr>\n",
       "    <tr>\n",
       "      <th>2</th>\n",
       "      <td>X5A_vtJh_PTQgQ5pmluCqg</td>\n",
       "      <td>7vHvQCjPq5pWj7Rio1A--w</td>\n",
       "      <td>5</td>\n",
       "      <td>3.65456</td>\n",
       "    </tr>\n",
       "    <tr>\n",
       "      <th>3</th>\n",
       "      <td>X5A_vtJh_PTQgQ5pmluCqg</td>\n",
       "      <td>FSnqO-YWUdRb0Xc95nXbvw</td>\n",
       "      <td>5</td>\n",
       "      <td>3.65833</td>\n",
       "    </tr>\n",
       "    <tr>\n",
       "      <th>4</th>\n",
       "      <td>X5A_vtJh_PTQgQ5pmluCqg</td>\n",
       "      <td>O-04UXVtgezKPiQJOll3hg</td>\n",
       "      <td>3</td>\n",
       "      <td>3.65099</td>\n",
       "    </tr>\n",
       "  </tbody>\n",
       "</table>\n",
       "</div>"
      ],
      "text/plain": [
       "                  user_id             business_id actual  predict\n",
       "0  X5A_vtJh_PTQgQ5pmluCqg  3IwCop28R1_L5jMv6AkL8Q      5  3.69821\n",
       "1  X5A_vtJh_PTQgQ5pmluCqg  3LWsVfsSmb_Nzbi2YQ-NIA      4   3.8704\n",
       "2  X5A_vtJh_PTQgQ5pmluCqg  7vHvQCjPq5pWj7Rio1A--w      5  3.65456\n",
       "3  X5A_vtJh_PTQgQ5pmluCqg  FSnqO-YWUdRb0Xc95nXbvw      5  3.65833\n",
       "4  X5A_vtJh_PTQgQ5pmluCqg  O-04UXVtgezKPiQJOll3hg      3  3.65099"
      ]
     },
     "execution_count": 29,
     "metadata": {},
     "output_type": "execute_result"
    }
   ],
   "source": [
    "example = df_ratings[df_ratings['user_id']==\"X5A_vtJh_PTQgQ5pmluCqg\"]\n",
    "pre = list()\n",
    "for i in range(len(example)):\n",
    "    pre.append(algo.predict('X5A_vtJh_PTQgQ5pmluCqg',example['business_id'].iloc[i])[3])\n",
    "\n",
    "c=pd.DataFrame(np.concatenate((example,pd.DataFrame(pre)),axis=1))\n",
    "c.columns= ['user_id','business_id','actual','predict']\n",
    "c.head()"
   ]
  },
  {
   "cell_type": "code",
   "execution_count": 31,
   "metadata": {},
   "outputs": [
    {
     "name": "stderr",
     "output_type": "stream",
     "text": [
      "/anaconda/lib/python3.6/site-packages/ipykernel_launcher.py:2: SettingWithCopyWarning: \n",
      "A value is trying to be set on a copy of a slice from a DataFrame\n",
      "\n",
      "See the caveats in the documentation: http://pandas.pydata.org/pandas-docs/stable/indexing.html#indexing-view-versus-copy\n",
      "  \n",
      "/anaconda/lib/python3.6/site-packages/ipykernel_launcher.py:4: SettingWithCopyWarning: \n",
      "A value is trying to be set on a copy of a slice from a DataFrame\n",
      "\n",
      "See the caveats in the documentation: http://pandas.pydata.org/pandas-docs/stable/indexing.html#indexing-view-versus-copy\n",
      "  after removing the cwd from sys.path.\n"
     ]
    },
    {
     "data": {
      "text/html": [
       "<div>\n",
       "<style>\n",
       "    .dataframe thead tr:only-child th {\n",
       "        text-align: right;\n",
       "    }\n",
       "\n",
       "    .dataframe thead th {\n",
       "        text-align: left;\n",
       "    }\n",
       "\n",
       "    .dataframe tbody tr th {\n",
       "        vertical-align: top;\n",
       "    }\n",
       "</style>\n",
       "<table border=\"1\" class=\"dataframe\">\n",
       "  <thead>\n",
       "    <tr style=\"text-align: right;\">\n",
       "      <th></th>\n",
       "      <th>user_id</th>\n",
       "      <th>business_id</th>\n",
       "      <th>actual</th>\n",
       "      <th>predict</th>\n",
       "      <th>relevant</th>\n",
       "      <th>recommend</th>\n",
       "    </tr>\n",
       "  </thead>\n",
       "  <tbody>\n",
       "    <tr>\n",
       "      <th>0</th>\n",
       "      <td>X5A_vtJh_PTQgQ5pmluCqg</td>\n",
       "      <td>3IwCop28R1_L5jMv6AkL8Q</td>\n",
       "      <td>5</td>\n",
       "      <td>3.69821</td>\n",
       "      <td>1</td>\n",
       "      <td>1</td>\n",
       "    </tr>\n",
       "    <tr>\n",
       "      <th>1</th>\n",
       "      <td>X5A_vtJh_PTQgQ5pmluCqg</td>\n",
       "      <td>3LWsVfsSmb_Nzbi2YQ-NIA</td>\n",
       "      <td>4</td>\n",
       "      <td>3.8704</td>\n",
       "      <td>1</td>\n",
       "      <td>1</td>\n",
       "    </tr>\n",
       "    <tr>\n",
       "      <th>2</th>\n",
       "      <td>X5A_vtJh_PTQgQ5pmluCqg</td>\n",
       "      <td>7vHvQCjPq5pWj7Rio1A--w</td>\n",
       "      <td>5</td>\n",
       "      <td>3.65456</td>\n",
       "      <td>1</td>\n",
       "      <td>1</td>\n",
       "    </tr>\n",
       "    <tr>\n",
       "      <th>3</th>\n",
       "      <td>X5A_vtJh_PTQgQ5pmluCqg</td>\n",
       "      <td>FSnqO-YWUdRb0Xc95nXbvw</td>\n",
       "      <td>5</td>\n",
       "      <td>3.65833</td>\n",
       "      <td>1</td>\n",
       "      <td>1</td>\n",
       "    </tr>\n",
       "    <tr>\n",
       "      <th>4</th>\n",
       "      <td>X5A_vtJh_PTQgQ5pmluCqg</td>\n",
       "      <td>O-04UXVtgezKPiQJOll3hg</td>\n",
       "      <td>3</td>\n",
       "      <td>3.65099</td>\n",
       "      <td>0</td>\n",
       "      <td>1</td>\n",
       "    </tr>\n",
       "  </tbody>\n",
       "</table>\n",
       "</div>"
      ],
      "text/plain": [
       "                  user_id             business_id actual  predict  relevant  \\\n",
       "0  X5A_vtJh_PTQgQ5pmluCqg  3IwCop28R1_L5jMv6AkL8Q      5  3.69821         1   \n",
       "1  X5A_vtJh_PTQgQ5pmluCqg  3LWsVfsSmb_Nzbi2YQ-NIA      4   3.8704         1   \n",
       "2  X5A_vtJh_PTQgQ5pmluCqg  7vHvQCjPq5pWj7Rio1A--w      5  3.65456         1   \n",
       "3  X5A_vtJh_PTQgQ5pmluCqg  FSnqO-YWUdRb0Xc95nXbvw      5  3.65833         1   \n",
       "4  X5A_vtJh_PTQgQ5pmluCqg  O-04UXVtgezKPiQJOll3hg      3  3.65099         0   \n",
       "\n",
       "   recommend  \n",
       "0          1  \n",
       "1          1  \n",
       "2          1  \n",
       "3          1  \n",
       "4          1  "
      ]
     },
     "execution_count": 31,
     "metadata": {},
     "output_type": "execute_result"
    }
   ],
   "source": [
    "c['relevant'] = 0 \n",
    "c['relevant'][c['actual']>3.5] =1\n",
    "c['recommend'] = 0 \n",
    "c['recommend'][c['predict']>3.5] =1\n",
    "c.head()"
   ]
  },
  {
   "cell_type": "code",
   "execution_count": 32,
   "metadata": {},
   "outputs": [
    {
     "data": {
      "text/html": [
       "<div>\n",
       "<style>\n",
       "    .dataframe thead tr:only-child th {\n",
       "        text-align: right;\n",
       "    }\n",
       "\n",
       "    .dataframe thead th {\n",
       "        text-align: left;\n",
       "    }\n",
       "\n",
       "    .dataframe tbody tr th {\n",
       "        vertical-align: top;\n",
       "    }\n",
       "</style>\n",
       "<table border=\"1\" class=\"dataframe\">\n",
       "  <thead>\n",
       "    <tr style=\"text-align: right;\">\n",
       "      <th></th>\n",
       "      <th>Recommend</th>\n",
       "      <th>Not Recommend</th>\n",
       "    </tr>\n",
       "  </thead>\n",
       "  <tbody>\n",
       "    <tr>\n",
       "      <th>Relevant</th>\n",
       "      <td>7</td>\n",
       "      <td>0</td>\n",
       "    </tr>\n",
       "    <tr>\n",
       "      <th>Not Relevant</th>\n",
       "      <td>4</td>\n",
       "      <td>0</td>\n",
       "    </tr>\n",
       "  </tbody>\n",
       "</table>\n",
       "</div>"
      ],
      "text/plain": [
       "              Recommend  Not Recommend\n",
       "Relevant              7              0\n",
       "Not Relevant          4              0"
      ]
     },
     "execution_count": 32,
     "metadata": {},
     "output_type": "execute_result"
    }
   ],
   "source": [
    "#Confusion Matrix\n",
    "cm = confusion_matrix(c['relevant'], c['recommend'], labels = [1,0])\n",
    "cm_df = pd.DataFrame(cm, columns = ['Recommend', 'Not Recommend'])\n",
    "cm_df.index = ['Relevant','Not Relevant']\n",
    "cm_df"
   ]
  },
  {
   "cell_type": "markdown",
   "metadata": {},
   "source": [
    "# User-User"
   ]
  },
  {
   "cell_type": "code",
   "execution_count": 33,
   "metadata": {},
   "outputs": [
    {
     "name": "stdout",
     "output_type": "stream",
     "text": [
      "fold number 1\n",
      "Computing the cosine similarity matrix...\n",
      "Done computing similarity matrix.\n",
      "On testset,  RMSE: 1.1400\n",
      "Precision: 0.745462765326703\n",
      "Recall: 0.7579528786661575\n",
      "On trainset, RMSE: 1.0657\n",
      "Precision: 0.8199295593162308\n",
      "Recall: 0.4469824554057165\n",
      "fold number 2\n",
      "Computing the cosine similarity matrix...\n",
      "Done computing similarity matrix.\n",
      "On testset,  RMSE: 1.1416\n",
      "Precision: 0.750836590855259\n",
      "Recall: 0.7563885799925522\n",
      "On trainset, RMSE: 1.0646\n",
      "Precision: 0.8184577499069582\n",
      "Recall: 0.445765412443959\n",
      "fold number 3\n",
      "Computing the cosine similarity matrix...\n",
      "Done computing similarity matrix.\n",
      "On testset,  RMSE: 1.1445\n",
      "Precision: 0.7497001654259835\n",
      "Recall: 0.7534888151047041\n",
      "On trainset, RMSE: 1.0642\n",
      "Precision: 0.8192251524783266\n",
      "Recall: 0.4471463200452293\n",
      "fold number 4\n",
      "Computing the cosine similarity matrix...\n",
      "Done computing similarity matrix.\n",
      "On testset,  RMSE: 1.1466\n",
      "Precision: 0.7456945308104687\n",
      "Recall: 0.7500126264233562\n",
      "On trainset, RMSE: 1.0638\n",
      "Precision: 0.8205724021418724\n",
      "Recall: 0.44617262471857666\n",
      "fold number 5\n",
      "Computing the cosine similarity matrix...\n",
      "Done computing similarity matrix.\n",
      "On testset,  RMSE: 1.1375\n",
      "Precision: 0.7505969267139588\n",
      "Recall: 0.7525797492629916\n",
      "On trainset, RMSE: 1.0658\n",
      "Precision: 0.8178192022449573\n",
      "Recall: 0.44631714492674684\n"
     ]
    }
   ],
   "source": [
    "reader= Reader()\n",
    "data = Dataset.load_from_df(df_ratings, reader)\n",
    "sim_options = {'name': 'cosine',\n",
    "               'user_based': True  # compute  similarities between users\n",
    "               }\n",
    "algo = KNNBasic(sim_options=sim_options)\n",
    "kf = KFold(n_splits=5)\n",
    "uu_train_precision = list()\n",
    "uu_train_recall = list()\n",
    "uu_test_recall = list()\n",
    "uu_test_precision = list()\n",
    "\n",
    "for i, (trainset_cv, testset_cv) in enumerate(kf.split(data)):\n",
    "    print('fold number', i + 1)\n",
    "    algo.fit(trainset_cv)\n",
    "\n",
    "    print('On testset,', end='  ')\n",
    "    predictions = algo.test(testset_cv)\n",
    "    accuracy.rmse(predictions, verbose=True)\n",
    "    precisions, recalls = precision_recall_at_k(predictions, k=5, threshold=3.5)\n",
    "    uu_test_precision.append(sum(prec for prec in precisions.values()) / len(precisions))\n",
    "    uu_test_recall.append(sum(rec for rec in recalls.values()) / len(recalls))\n",
    "    print('Precision:',sum(prec for prec in precisions.values()) / len(precisions))\n",
    "    print('Recall:',sum(rec for rec in recalls.values()) / len(recalls))\n",
    "\n",
    "\n",
    "    print('On trainset,', end=' ')\n",
    "    predictions = algo.test(trainset_cv.build_testset())\n",
    "    accuracy.rmse(predictions, verbose=True)\n",
    "    precisions, recalls = precision_recall_at_k(predictions, k=5, threshold=3.5)\n",
    "    uu_train_precision.append(sum(prec for prec in precisions.values()) / len(precisions))\n",
    "    uu_train_recall.append(sum(rec for rec in recalls.values()) / len(recalls))\n",
    "    print('Precision:',sum(prec for prec in precisions.values()) / len(precisions))\n",
    "    print('Recall:',sum(rec for rec in recalls.values()) / len(recalls))\n",
    "\n"
   ]
  },
  {
   "cell_type": "code",
   "execution_count": 34,
   "metadata": {},
   "outputs": [
    {
     "data": {
      "text/plain": [
       "0.7540845298899523"
      ]
     },
     "execution_count": 34,
     "metadata": {},
     "output_type": "execute_result"
    }
   ],
   "source": [
    "np.mean(uu_test_recall)"
   ]
  },
  {
   "cell_type": "code",
   "execution_count": 35,
   "metadata": {},
   "outputs": [
    {
     "data": {
      "text/plain": [
       "0.7484581958264747"
      ]
     },
     "execution_count": 35,
     "metadata": {},
     "output_type": "execute_result"
    }
   ],
   "source": [
    "np.mean(uu_test_precision)"
   ]
  },
  {
   "cell_type": "code",
   "execution_count": 36,
   "metadata": {},
   "outputs": [
    {
     "data": {
      "text/html": [
       "<div>\n",
       "<style>\n",
       "    .dataframe thead tr:only-child th {\n",
       "        text-align: right;\n",
       "    }\n",
       "\n",
       "    .dataframe thead th {\n",
       "        text-align: left;\n",
       "    }\n",
       "\n",
       "    .dataframe tbody tr th {\n",
       "        vertical-align: top;\n",
       "    }\n",
       "</style>\n",
       "<table border=\"1\" class=\"dataframe\">\n",
       "  <thead>\n",
       "    <tr style=\"text-align: right;\">\n",
       "      <th></th>\n",
       "      <th>user_id</th>\n",
       "      <th>business_id</th>\n",
       "      <th>actual</th>\n",
       "      <th>predict</th>\n",
       "    </tr>\n",
       "  </thead>\n",
       "  <tbody>\n",
       "    <tr>\n",
       "      <th>0</th>\n",
       "      <td>X5A_vtJh_PTQgQ5pmluCqg</td>\n",
       "      <td>3IwCop28R1_L5jMv6AkL8Q</td>\n",
       "      <td>5</td>\n",
       "      <td>3.775</td>\n",
       "    </tr>\n",
       "    <tr>\n",
       "      <th>1</th>\n",
       "      <td>X5A_vtJh_PTQgQ5pmluCqg</td>\n",
       "      <td>3LWsVfsSmb_Nzbi2YQ-NIA</td>\n",
       "      <td>4</td>\n",
       "      <td>4.275</td>\n",
       "    </tr>\n",
       "    <tr>\n",
       "      <th>2</th>\n",
       "      <td>X5A_vtJh_PTQgQ5pmluCqg</td>\n",
       "      <td>7vHvQCjPq5pWj7Rio1A--w</td>\n",
       "      <td>5</td>\n",
       "      <td>3.825</td>\n",
       "    </tr>\n",
       "    <tr>\n",
       "      <th>3</th>\n",
       "      <td>X5A_vtJh_PTQgQ5pmluCqg</td>\n",
       "      <td>FSnqO-YWUdRb0Xc95nXbvw</td>\n",
       "      <td>5</td>\n",
       "      <td>3.7</td>\n",
       "    </tr>\n",
       "    <tr>\n",
       "      <th>4</th>\n",
       "      <td>X5A_vtJh_PTQgQ5pmluCqg</td>\n",
       "      <td>O-04UXVtgezKPiQJOll3hg</td>\n",
       "      <td>3</td>\n",
       "      <td>4.23822</td>\n",
       "    </tr>\n",
       "  </tbody>\n",
       "</table>\n",
       "</div>"
      ],
      "text/plain": [
       "                  user_id             business_id actual  predict\n",
       "0  X5A_vtJh_PTQgQ5pmluCqg  3IwCop28R1_L5jMv6AkL8Q      5    3.775\n",
       "1  X5A_vtJh_PTQgQ5pmluCqg  3LWsVfsSmb_Nzbi2YQ-NIA      4    4.275\n",
       "2  X5A_vtJh_PTQgQ5pmluCqg  7vHvQCjPq5pWj7Rio1A--w      5    3.825\n",
       "3  X5A_vtJh_PTQgQ5pmluCqg  FSnqO-YWUdRb0Xc95nXbvw      5      3.7\n",
       "4  X5A_vtJh_PTQgQ5pmluCqg  O-04UXVtgezKPiQJOll3hg      3  4.23822"
      ]
     },
     "execution_count": 36,
     "metadata": {},
     "output_type": "execute_result"
    }
   ],
   "source": [
    "example = df_ratings[df_ratings['user_id']==\"X5A_vtJh_PTQgQ5pmluCqg\"]\n",
    "pre = list()\n",
    "for i in range(len(example)):\n",
    "    pre.append(algo.predict('X5A_vtJh_PTQgQ5pmluCqg',example['business_id'].iloc[i])[3])\n",
    "\n",
    "d=pd.DataFrame(np.concatenate((example,pd.DataFrame(pre)),axis=1))\n",
    "d.columns= ['user_id','business_id','actual','predict']\n",
    "d.head()"
   ]
  },
  {
   "cell_type": "code",
   "execution_count": 37,
   "metadata": {},
   "outputs": [
    {
     "name": "stderr",
     "output_type": "stream",
     "text": [
      "/anaconda/lib/python3.6/site-packages/ipykernel_launcher.py:2: SettingWithCopyWarning: \n",
      "A value is trying to be set on a copy of a slice from a DataFrame\n",
      "\n",
      "See the caveats in the documentation: http://pandas.pydata.org/pandas-docs/stable/indexing.html#indexing-view-versus-copy\n",
      "  \n",
      "/anaconda/lib/python3.6/site-packages/ipykernel_launcher.py:4: SettingWithCopyWarning: \n",
      "A value is trying to be set on a copy of a slice from a DataFrame\n",
      "\n",
      "See the caveats in the documentation: http://pandas.pydata.org/pandas-docs/stable/indexing.html#indexing-view-versus-copy\n",
      "  after removing the cwd from sys.path.\n"
     ]
    },
    {
     "data": {
      "text/html": [
       "<div>\n",
       "<style>\n",
       "    .dataframe thead tr:only-child th {\n",
       "        text-align: right;\n",
       "    }\n",
       "\n",
       "    .dataframe thead th {\n",
       "        text-align: left;\n",
       "    }\n",
       "\n",
       "    .dataframe tbody tr th {\n",
       "        vertical-align: top;\n",
       "    }\n",
       "</style>\n",
       "<table border=\"1\" class=\"dataframe\">\n",
       "  <thead>\n",
       "    <tr style=\"text-align: right;\">\n",
       "      <th></th>\n",
       "      <th>user_id</th>\n",
       "      <th>business_id</th>\n",
       "      <th>actual</th>\n",
       "      <th>predict</th>\n",
       "      <th>relevant</th>\n",
       "      <th>recommend</th>\n",
       "    </tr>\n",
       "  </thead>\n",
       "  <tbody>\n",
       "    <tr>\n",
       "      <th>0</th>\n",
       "      <td>X5A_vtJh_PTQgQ5pmluCqg</td>\n",
       "      <td>3IwCop28R1_L5jMv6AkL8Q</td>\n",
       "      <td>5</td>\n",
       "      <td>3.775</td>\n",
       "      <td>1</td>\n",
       "      <td>1</td>\n",
       "    </tr>\n",
       "    <tr>\n",
       "      <th>1</th>\n",
       "      <td>X5A_vtJh_PTQgQ5pmluCqg</td>\n",
       "      <td>3LWsVfsSmb_Nzbi2YQ-NIA</td>\n",
       "      <td>4</td>\n",
       "      <td>4.275</td>\n",
       "      <td>1</td>\n",
       "      <td>1</td>\n",
       "    </tr>\n",
       "    <tr>\n",
       "      <th>2</th>\n",
       "      <td>X5A_vtJh_PTQgQ5pmluCqg</td>\n",
       "      <td>7vHvQCjPq5pWj7Rio1A--w</td>\n",
       "      <td>5</td>\n",
       "      <td>3.825</td>\n",
       "      <td>1</td>\n",
       "      <td>1</td>\n",
       "    </tr>\n",
       "    <tr>\n",
       "      <th>3</th>\n",
       "      <td>X5A_vtJh_PTQgQ5pmluCqg</td>\n",
       "      <td>FSnqO-YWUdRb0Xc95nXbvw</td>\n",
       "      <td>5</td>\n",
       "      <td>3.7</td>\n",
       "      <td>1</td>\n",
       "      <td>1</td>\n",
       "    </tr>\n",
       "    <tr>\n",
       "      <th>4</th>\n",
       "      <td>X5A_vtJh_PTQgQ5pmluCqg</td>\n",
       "      <td>O-04UXVtgezKPiQJOll3hg</td>\n",
       "      <td>3</td>\n",
       "      <td>4.23822</td>\n",
       "      <td>0</td>\n",
       "      <td>1</td>\n",
       "    </tr>\n",
       "  </tbody>\n",
       "</table>\n",
       "</div>"
      ],
      "text/plain": [
       "                  user_id             business_id actual  predict  relevant  \\\n",
       "0  X5A_vtJh_PTQgQ5pmluCqg  3IwCop28R1_L5jMv6AkL8Q      5    3.775         1   \n",
       "1  X5A_vtJh_PTQgQ5pmluCqg  3LWsVfsSmb_Nzbi2YQ-NIA      4    4.275         1   \n",
       "2  X5A_vtJh_PTQgQ5pmluCqg  7vHvQCjPq5pWj7Rio1A--w      5    3.825         1   \n",
       "3  X5A_vtJh_PTQgQ5pmluCqg  FSnqO-YWUdRb0Xc95nXbvw      5      3.7         1   \n",
       "4  X5A_vtJh_PTQgQ5pmluCqg  O-04UXVtgezKPiQJOll3hg      3  4.23822         0   \n",
       "\n",
       "   recommend  \n",
       "0          1  \n",
       "1          1  \n",
       "2          1  \n",
       "3          1  \n",
       "4          1  "
      ]
     },
     "execution_count": 37,
     "metadata": {},
     "output_type": "execute_result"
    }
   ],
   "source": [
    "d['relevant'] = 0 \n",
    "d['relevant'][d['actual']>3.5] =1\n",
    "d['recommend'] = 0 \n",
    "d['recommend'][d['predict']>3.5] =1\n",
    "d.head()"
   ]
  },
  {
   "cell_type": "code",
   "execution_count": 38,
   "metadata": {},
   "outputs": [
    {
     "data": {
      "text/html": [
       "<div>\n",
       "<style>\n",
       "    .dataframe thead tr:only-child th {\n",
       "        text-align: right;\n",
       "    }\n",
       "\n",
       "    .dataframe thead th {\n",
       "        text-align: left;\n",
       "    }\n",
       "\n",
       "    .dataframe tbody tr th {\n",
       "        vertical-align: top;\n",
       "    }\n",
       "</style>\n",
       "<table border=\"1\" class=\"dataframe\">\n",
       "  <thead>\n",
       "    <tr style=\"text-align: right;\">\n",
       "      <th></th>\n",
       "      <th>Recommend</th>\n",
       "      <th>Not Recommend</th>\n",
       "    </tr>\n",
       "  </thead>\n",
       "  <tbody>\n",
       "    <tr>\n",
       "      <th>Relevant</th>\n",
       "      <td>7</td>\n",
       "      <td>0</td>\n",
       "    </tr>\n",
       "    <tr>\n",
       "      <th>Not Relevant</th>\n",
       "      <td>3</td>\n",
       "      <td>1</td>\n",
       "    </tr>\n",
       "  </tbody>\n",
       "</table>\n",
       "</div>"
      ],
      "text/plain": [
       "              Recommend  Not Recommend\n",
       "Relevant              7              0\n",
       "Not Relevant          3              1"
      ]
     },
     "execution_count": 38,
     "metadata": {},
     "output_type": "execute_result"
    }
   ],
   "source": [
    "cm = confusion_matrix(d['relevant'], d['recommend'], labels = [1,0])\n",
    "cm_df = pd.DataFrame(cm, columns = ['Recommend', 'Not Recommend'])\n",
    "cm_df.index = ['Relevant','Not Relevant']\n",
    "cm_df"
   ]
  },
  {
   "cell_type": "markdown",
   "metadata": {},
   "source": [
    "# Content Based"
   ]
  },
  {
   "cell_type": "code",
   "execution_count": 40,
   "metadata": {},
   "outputs": [],
   "source": [
    "df_t=pd.read_csv('df_text.csv')"
   ]
  },
  {
   "cell_type": "code",
   "execution_count": 41,
   "metadata": {
    "collapsed": true
   },
   "outputs": [],
   "source": [
    "def get_text(df):\n",
    "    df_tf=df_t.groupby('business_id').sum()\n",
    "    return df_tf\n",
    "\n",
    "df_tf = get_text(df_t)"
   ]
  },
  {
   "cell_type": "code",
   "execution_count": 42,
   "metadata": {
    "collapsed": true
   },
   "outputs": [],
   "source": [
    "def get_wordstemming(df_tf):\n",
    "    df_tf_1 = df_tf['text']\n",
    "    df_tf_1=df_tf_1.str.split()\n",
    "    df_tf_1 = pd.DataFrame(df_tf_1)\n",
    "    df_tf_1.columns =[\"keywords\"]\n",
    "    stemmer = SnowballStemmer('english')\n",
    "    df_tf_1['keywords'] = df_tf_1['keywords'].apply(lambda x: [stemmer.stem(i) for i in x])\n",
    "    df_tf_1['keywords'] = df_tf_1['keywords'].apply(lambda x: [str.lower(i.replace(\" \", \"\")) for i in x])\n",
    "    df_tf_1['keywords'] = df_tf_1['keywords'].apply(lambda x: ' '.join(x))\n",
    "    return df_tf_1\n",
    "\n",
    "df_tf_1=get_wordstemming(df_tf)"
   ]
  },
  {
   "cell_type": "code",
   "execution_count": 43,
   "metadata": {
    "collapsed": true
   },
   "outputs": [],
   "source": [
    "def get_cosinesim(df_tf_1):\n",
    "    stopwords_list = stopwords.words('english') + list(string.punctuation)\n",
    "    vectorizer = TfidfVectorizer(analyzer='word',\n",
    "                     ngram_range=(1, 2),\n",
    "                     min_df=0.003,\n",
    "                     max_df=0.5,\n",
    "                     max_features=5000,\n",
    "                     stop_words=stopwords_list)\n",
    "    item_ids = df_ratings['business_id'].tolist()\n",
    "    tfidf_matrix = vectorizer.fit_transform(df_tf_1['keywords'])\n",
    "    tfidf_feature_names = vectorizer.get_feature_names()\n",
    "    cosine_sim = linear_kernel(tfidf_matrix, tfidf_matrix)\n",
    "    return cosine_sim"
   ]
  },
  {
   "cell_type": "code",
   "execution_count": null,
   "metadata": {
    "collapsed": true
   },
   "outputs": [],
   "source": [
    "cosine_sim = get_cosinesim(df_tf_1)"
   ]
  },
  {
   "cell_type": "code",
   "execution_count": null,
   "metadata": {
    "collapsed": true
   },
   "outputs": [],
   "source": [
    "def get_recommendations(title):\n",
    "    #df.iloc[np.where(df['name'] == title)[0][0],:]['business_id'] \n",
    "    #smd = df_tf.reset_index()\n",
    "    #titles = smd['business_id']\n",
    "    title=df[df['name'] == title]['business_id'].unique()[0]\n",
    "    titles=df['business_id'].unique()\n",
    "    \n",
    "    indices = pd.Series(df.index[:len(titles)], index=titles)\n",
    "    idx = indices[title]\n",
    "    sim_scores = list(enumerate(cosine_sim[idx]))\n",
    "    sim_scores = sorted(sim_scores, key=lambda x: x[1], reverse=True)\n",
    "    sim_scores = sim_scores[1:151]\n",
    "    restaurant_indices = [i[0] for i in sim_scores]\n",
    "    result=titles[restaurant_indices]\n",
    "    result1=df[df['business_id'].isin(result)]['name'].unique().tolist()\n",
    "    return result1"
   ]
  },
  {
   "cell_type": "code",
   "execution_count": null,
   "metadata": {
    "collapsed": true
   },
   "outputs": [],
   "source": [
    "get_recommendations('Delmonico Steakhouse')"
   ]
  },
  {
   "cell_type": "markdown",
   "metadata": {},
   "source": [
    "# Hybrid"
   ]
  },
  {
   "cell_type": "code",
   "execution_count": null,
   "metadata": {
    "collapsed": true
   },
   "outputs": [],
   "source": [
    "def hybrid(userId, title):\n",
    "    businessid = df.iloc[np.where(df['name'] == title)[0],:][\"business_id\"].unique()[0]\n",
    "    idx=np.where(pd.DataFrame(list(enumerate(df['business_id'].unique())))[1] == businessid)[0]\n",
    "\n",
    "    sim_scores = list(enumerate(cosine_sim[int(idx)]))\n",
    "    sim_scores = sorted(sim_scores, key=lambda x: x[1], reverse=True)\n",
    "    sim_scores = sim_scores[1:26]\n",
    "    restaurant_indices = [i[0] for i in sim_scores]\n",
    "    restaurant_id = df['business_id'].unique()[restaurant_indices]\n",
    "    df[df['business_id'].isin(restaurant_id)]['name'].unique().tolist()\n",
    "\n",
    "    scores= np.zeros(restaurant_id.shape[0])\n",
    "    for i in range(restaurant_id.shape[0]):\n",
    "        scores[i]= svd.predict(userId,restaurant_id[i]).est\n",
    "    result= pd.DataFrame(np.hstack((pd.DataFrame(restaurant_id),    pd.DataFrame(scores))))    \n",
    "    result.columns = ['business_id','scores']\n",
    "    \n",
    "    final=result.sort_values('scores',ascending=False)\n",
    "   \n",
    "    return(df[df['business_id'].isin(final[\"business_id\"])]['name'].unique().tolist())\n"
   ]
  },
  {
   "cell_type": "code",
   "execution_count": null,
   "metadata": {
    "collapsed": true
   },
   "outputs": [],
   "source": [
    "hybrid('L8cvMZLWmM4qWTl9SkxJ8g','Delmonico Steakhouse')"
   ]
  },
  {
   "cell_type": "code",
   "execution_count": null,
   "metadata": {
    "collapsed": true
   },
   "outputs": [],
   "source": []
  }
 ],
 "metadata": {
  "kernelspec": {
   "display_name": "Python 3",
   "language": "python",
   "name": "python3"
  },
  "language_info": {
   "codemirror_mode": {
    "name": "ipython",
    "version": 3
   },
   "file_extension": ".py",
   "mimetype": "text/x-python",
   "name": "python",
   "nbconvert_exporter": "python",
   "pygments_lexer": "ipython3",
   "version": "3.6.4"
  }
 },
 "nbformat": 4,
 "nbformat_minor": 2
}
